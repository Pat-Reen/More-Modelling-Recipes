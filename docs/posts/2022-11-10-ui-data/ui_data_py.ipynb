{
 "cells": [
  {
   "cell_type": "markdown",
   "id": "27b85f63-bb87-4f52-8f28-d1b3a92e1f3a",
   "metadata": {},
   "source": [
    "# Py: User interface options"
   ]
  },
  {
   "cell_type": "markdown",
   "id": "6ab18002",
   "metadata": {},
   "source": [
    "# Background\n",
    "This notebook sets out example use cases for two user interface packages for low-code pandas data transformation - using [pandas_ui](https://github.com/arunnbaba/pandas_ui) and [pandasgui](https://pypi.org/project/pandasgui/)."
   ]
  },
  {
   "cell_type": "markdown",
   "id": "2ffefcca",
   "metadata": {},
   "source": [
    "## Pandas_ui\n",
    "See ['getting started'](https://github.com/arunnbaba/pandas_ui) notes on the pandas_ui github page."
   ]
  },
  {
   "cell_type": "markdown",
   "id": "434b034b",
   "metadata": {},
   "source": [
    "### Data prep"
   ]
  },
  {
   "cell_type": "code",
   "execution_count": 1,
   "id": "b9412743",
   "metadata": {
    "name": "Setup",
    "tags": []
   },
   "outputs": [
    {
     "data": {
      "text/html": [
       "<div>\n",
       "<style scoped>\n",
       "    .dataframe tbody tr th:only-of-type {\n",
       "        vertical-align: middle;\n",
       "    }\n",
       "\n",
       "    .dataframe tbody tr th {\n",
       "        vertical-align: top;\n",
       "    }\n",
       "\n",
       "    .dataframe thead th {\n",
       "        text-align: right;\n",
       "    }\n",
       "</style>\n",
       "<table border=\"1\" class=\"dataframe\">\n",
       "  <thead>\n",
       "    <tr style=\"text-align: right;\">\n",
       "      <th></th>\n",
       "      <th>year</th>\n",
       "      <th>month</th>\n",
       "      <th>passengers</th>\n",
       "    </tr>\n",
       "  </thead>\n",
       "  <tbody>\n",
       "    <tr>\n",
       "      <th>0</th>\n",
       "      <td>1949</td>\n",
       "      <td>Jan</td>\n",
       "      <td>112</td>\n",
       "    </tr>\n",
       "    <tr>\n",
       "      <th>1</th>\n",
       "      <td>1949</td>\n",
       "      <td>Feb</td>\n",
       "      <td>118</td>\n",
       "    </tr>\n",
       "    <tr>\n",
       "      <th>2</th>\n",
       "      <td>1949</td>\n",
       "      <td>Mar</td>\n",
       "      <td>132</td>\n",
       "    </tr>\n",
       "    <tr>\n",
       "      <th>3</th>\n",
       "      <td>1949</td>\n",
       "      <td>Apr</td>\n",
       "      <td>129</td>\n",
       "    </tr>\n",
       "    <tr>\n",
       "      <th>4</th>\n",
       "      <td>1949</td>\n",
       "      <td>May</td>\n",
       "      <td>121</td>\n",
       "    </tr>\n",
       "  </tbody>\n",
       "</table>\n",
       "</div>"
      ],
      "text/plain": [
       "   year month  passengers\n",
       "0  1949   Jan         112\n",
       "1  1949   Feb         118\n",
       "2  1949   Mar         132\n",
       "3  1949   Apr         129\n",
       "4  1949   May         121"
      ]
     },
     "execution_count": 1,
     "metadata": {},
     "output_type": "execute_result"
    }
   ],
   "source": [
    "import pandas as pd\n",
    "import numpy as np\n",
    "import seaborn as sns\n",
    "\n",
    "flights = sns.load_dataset('flights')\n",
    "flights.to_csv('./app/flights.csv', index=False)\n",
    "flights.head()"
   ]
  },
  {
   "cell_type": "markdown",
   "id": "4f7c489e",
   "metadata": {},
   "source": [
    "### Transformations"
   ]
  },
  {
   "cell_type": "code",
   "execution_count": 2,
   "id": "5992b99c-40b7-44f6-97e8-6c15af911814",
   "metadata": {
    "name": "Generate Dataset 1"
   },
   "outputs": [
    {
     "data": {
      "application/vnd.jupyter.widget-view+json": {
       "model_id": "ea8180351fae4129b27d4f2cb8c4bb4f",
       "version_major": 2,
       "version_minor": 0
      },
      "text/plain": [
       "Tab(children=(Output(), Output(), Output(), Output()), _titles={'0': 'DataFrame', '1': 'PandasProfoling', '2':…"
      ]
     },
     "metadata": {},
     "output_type": "display_data"
    }
   ],
   "source": [
    "from pandas_ui import *\n",
    "pandas_ui('./app/flights.csv')"
   ]
  },
  {
   "cell_type": "markdown",
   "id": "953ebab0",
   "metadata": {},
   "source": [
    "## Pandasgui\n",
    "See ['usage'](https://github.com/adamerose/pandasgui) notes on the pandasgui github page."
   ]
  },
  {
   "cell_type": "raw",
   "id": "56cb2190",
   "metadata": {
    "collapsed": true
   },
   "source": [
    "from pandasgui import show\n",
    "show(flights)"
   ]
  },
  {
   "cell_type": "markdown",
   "id": "685289b9",
   "metadata": {},
   "source": [
    "## Other options\n",
    "\n",
    "Other low code packages supporting data transformation exist in both r and python. In [databricks](https://www.databricks.com/), bamboolib is a versatile alternative closed source package although it currently does not support spark dataframes."
   ]
  }
 ],
 "metadata": {
  "jupytext": {
   "cell_metadata_filter": "message,tags,eval,warning,name,-all",
   "main_language": "R",
   "notebook_metadata_filter": "-all"
  },
  "kernelspec": {
   "display_name": "Python 3 (ipykernel)",
   "language": "python",
   "name": "python3"
  },
  "language_info": {
   "codemirror_mode": {
    "name": "ipython",
    "version": 3
   },
   "file_extension": ".py",
   "mimetype": "text/x-python",
   "name": "python",
   "nbconvert_exporter": "python",
   "pygments_lexer": "ipython3",
   "version": "3.9.7"
  }
 },
 "nbformat": 4,
 "nbformat_minor": 5
}
